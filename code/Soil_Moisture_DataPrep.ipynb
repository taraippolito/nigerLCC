{
 "cells": [
  {
   "cell_type": "code",
   "execution_count": 14,
   "metadata": {},
   "outputs": [],
   "source": [
    "import xarray as xr\n",
    "import pandas as pd\n",
    "import numpy as np\n",
    "import rasterio \n",
    "from datetime import timedelta, date\n",
    "import matplotlib.pyplot as plt\n",
    "import h5py\n",
    "import os"
   ]
  },
  {
   "cell_type": "code",
   "execution_count": 2,
   "metadata": {},
   "outputs": [
    {
     "name": "stderr",
     "output_type": "stream",
     "text": [
      "C:\\Users\\Research\\Anaconda3\\lib\\site-packages\\ipykernel_launcher.py:2: FutureWarning: In xarray version 0.15 the default behaviour of `open_mfdataset`\n",
      "will change. To retain the existing behavior, pass\n",
      "combine='nested'. To use future default behavior, pass\n",
      "combine='by_coords'. See\n",
      "http://xarray.pydata.org/en/stable/combining.html#combining-multi\n",
      "\n",
      "  \n",
      "C:\\Users\\Research\\Anaconda3\\lib\\site-packages\\xarray\\backends\\api.py:933: FutureWarning: The datasets supplied have global dimension coordinates. You may want\n",
      "to use the new `combine_by_coords` function (or the\n",
      "`combine='by_coords'` option to `open_mfdataset`) to order the datasets\n",
      "before concatenation. Alternatively, to continue concatenating based\n",
      "on the order the datasets are supplied in future, please use the new\n",
      "`combine_nested` function (or the `combine='nested'` option to\n",
      "open_mfdataset).\n",
      "  from_openmfds=True,\n"
     ]
    }
   ],
   "source": [
    "# 2010 soil moisture data (daily measurements stacked into one dataset)\n",
    "ds_2010 = xr.open_mfdataset('C:\\\\Users\\\\Research\\\\Documents\\\\Tara_Fall_2019\\\\ESA_SoilMoisture\\\\2010\\\\*.nc')"
   ]
  },
  {
   "cell_type": "code",
   "execution_count": 3,
   "metadata": {
    "scrolled": true
   },
   "outputs": [
    {
     "name": "stderr",
     "output_type": "stream",
     "text": [
      "C:\\Users\\Research\\Anaconda3\\lib\\site-packages\\ipykernel_launcher.py:2: FutureWarning: In xarray version 0.15 the default behaviour of `open_mfdataset`\n",
      "will change. To retain the existing behavior, pass\n",
      "combine='nested'. To use future default behavior, pass\n",
      "combine='by_coords'. See\n",
      "http://xarray.pydata.org/en/stable/combining.html#combining-multi\n",
      "\n",
      "  \n",
      "C:\\Users\\Research\\Anaconda3\\lib\\site-packages\\xarray\\backends\\api.py:933: FutureWarning: The datasets supplied have global dimension coordinates. You may want\n",
      "to use the new `combine_by_coords` function (or the\n",
      "`combine='by_coords'` option to `open_mfdataset`) to order the datasets\n",
      "before concatenation. Alternatively, to continue concatenating based\n",
      "on the order the datasets are supplied in future, please use the new\n",
      "`combine_nested` function (or the `combine='nested'` option to\n",
      "open_mfdataset).\n",
      "  from_openmfds=True,\n"
     ]
    }
   ],
   "source": [
    "# 2016 soil moisture data (daily measurements stacked into one dataset)\n",
    "ds_2016 = xr.open_mfdataset('C:\\\\Users\\\\Research\\\\Documents\\\\Tara_Fall_2019\\\\ESA_SoilMoisture\\\\2016\\\\*.nc')"
   ]
  },
  {
   "cell_type": "code",
   "execution_count": 9,
   "metadata": {},
   "outputs": [
    {
     "name": "stderr",
     "output_type": "stream",
     "text": [
      "C:\\Users\\Research\\Anaconda3\\lib\\site-packages\\ipykernel_launcher.py:1: FutureWarning: In xarray version 0.15 the default behaviour of `open_mfdataset`\n",
      "will change. To retain the existing behavior, pass\n",
      "combine='nested'. To use future default behavior, pass\n",
      "combine='by_coords'. See\n",
      "http://xarray.pydata.org/en/stable/combining.html#combining-multi\n",
      "\n",
      "  \"\"\"Entry point for launching an IPython kernel.\n"
     ]
    }
   ],
   "source": [
    "smap = xr.open_mfdataset('C:\\\\Users\\\\Research\\\\Documents\\\\Tara_Fall_2019\\\\SMAP_SoilMoisture\\\\smap_2016\\\\*001E14N_R16010_001.h5', concat_dim = ['longitude_3km', 'latitude_3km'] , engine = 'h5netcdf')"
   ]
  },
  {
   "cell_type": "code",
   "execution_count": 10,
   "metadata": {},
   "outputs": [
    {
     "data": {
      "text/html": [
       "<pre>&lt;xarray.Dataset&gt;\n",
       "Dimensions:     (concat_dim: 2)\n",
       "Coordinates:\n",
       "  * concat_dim  (concat_dim) &lt;U13 &#x27;longitude_3km&#x27; &#x27;latitude_3km&#x27;\n",
       "Data variables:\n",
       "    *empty*</pre>"
      ],
      "text/plain": [
       "<xarray.Dataset>\n",
       "Dimensions:     (concat_dim: 2)\n",
       "Coordinates:\n",
       "  * concat_dim  (concat_dim) <U13 'longitude_3km' 'latitude_3km'\n",
       "Data variables:\n",
       "    *empty*"
      ]
     },
     "execution_count": 10,
     "metadata": {},
     "output_type": "execute_result"
    }
   ],
   "source": [
    "smap"
   ]
  },
  {
   "cell_type": "code",
   "execution_count": 2,
   "metadata": {},
   "outputs": [],
   "source": []
  },
  {
   "cell_type": "code",
   "execution_count": 3,
   "metadata": {},
   "outputs": [
    {
     "name": "stdout",
     "output_type": "stream",
     "text": [
      "<KeysViewHDF5 ['EASE_column_index_3km', 'EASE_column_index_apm_3km', 'EASE_row_index_3km', 'EASE_row_index_apm_3km', 'SMAP_Sentinel_overpass_timediff_hr_3km', 'SMAP_Sentinel_overpass_timediff_hr_apm_3km', 'albedo_3km', 'albedo_apm_3km', 'bare_soil_roughness_retrieved_3km', 'bare_soil_roughness_retrieved_apm_3km', 'beta_tbv_vv_3km', 'beta_tbv_vv_apm_3km', 'disagg_soil_moisture_3km', 'disagg_soil_moisture_apm_3km', 'disaggregated_tb_v_qual_flag_3km', 'disaggregated_tb_v_qual_flag_apm_3km', 'gamma_vv_xpol_3km', 'gamma_vv_xpol_apm_3km', 'landcover_class_3km', 'landcover_class_apm_3km', 'latitude_3km', 'latitude_apm_3km', 'longitude_3km', 'longitude_apm_3km', 'retrieval_qual_flag_3km', 'retrieval_qual_flag_apm_3km', 'sigma0_incidence_angle_3km', 'sigma0_incidence_angle_apm_3km', 'sigma0_vh_aggregated_3km', 'sigma0_vh_aggregated_apm_3km', 'sigma0_vv_aggregated_3km', 'sigma0_vv_aggregated_apm_3km', 'soil_moisture_3km', 'soil_moisture_apm_3km', 'soil_moisture_std_dev_3km', 'soil_moisture_std_dev_apm_3km', 'spacecraft_overpass_time_seconds_3km', 'spacecraft_overpass_time_seconds_apm_3km', 'surface_flag_3km', 'surface_flag_apm_3km', 'surface_temperature_3km', 'surface_temperature_apm_3km', 'tb_v_disaggregated_3km', 'tb_v_disaggregated_apm_3km', 'tb_v_disaggregated_std_3km', 'tb_v_disaggregated_std_apm_3km', 'vegetation_opacity_3km', 'vegetation_opacity_apm_3km', 'vegetation_water_content_3km', 'vegetation_water_content_apm_3km', 'water_body_fraction_3km', 'water_body_fraction_apm_3km']>\n"
     ]
    }
   ],
   "source": [
    "sm = smap_sample['Soil_Moisture_Retrieval_Data_3km']\n",
    "print (sm.keys())\n",
    "sm_3k = sm['soil_moisture_3km']\n",
    "lat = sm['latitude_3km']\n",
    "lon = sm['longitude_3km']"
   ]
  },
  {
   "cell_type": "code",
   "execution_count": 26,
   "metadata": {},
   "outputs": [
    {
     "data": {
      "text/plain": [
       "(90, 87)"
      ]
     },
     "execution_count": 26,
     "metadata": {},
     "output_type": "execute_result"
    }
   ],
   "source": [
    "np.asarray(lat).shape"
   ]
  },
  {
   "cell_type": "code",
   "execution_count": 84,
   "metadata": {},
   "outputs": [
    {
     "name": "stdout",
     "output_type": "stream",
     "text": [
      "4733\n",
      "2131\n"
     ]
    }
   ],
   "source": [
    "smap_sample = h5py.File('C:\\\\Users\\\\Research\\\\Documents\\\\Tara_Fall_2019\\\\SMAP_SoilMoisture\\\\smap_2016\\\\SMAP_L2_SM_SP_1AIWDV_20160112T053528_20160111T175507_003E13N_R16010_001.h5', \"r\")\n",
    "sm = smap_sample['Soil_Moisture_Retrieval_Data_3km']\n",
    "sm_3k = np.array(sm['soil_moisture_3km'])\n",
    "print (np.count_nonzero(sm_3k == -9999.0))\n",
    "\n",
    "smap_sample2 = h5py.File('C:\\\\Users\\\\Research\\\\Documents\\\\Tara_Fall_2019\\\\SMAP_SoilMoisture\\\\smap_2016\\\\SMAP_L2_SM_SP_1AIWDV_20161130T054744_20161130T175518_003E13N_R16010_001.h5', \"r\")\n",
    "sm2 = smap_sample2['Soil_Moisture_Retrieval_Data_3km']\n",
    "sm_3k2 = np.array(sm2['soil_moisture_3km'])\n",
    "print (np.count_nonzero(sm_3k2 == -9999.0))"
   ]
  },
  {
   "cell_type": "code",
   "execution_count": 86,
   "metadata": {},
   "outputs": [
    {
     "data": {
      "text/plain": [
       "<KeysViewHDF5 ['Metadata', 'Soil_Moisture_Retrieval_Data_1km', 'Soil_Moisture_Retrieval_Data_3km', 'a']>"
      ]
     },
     "execution_count": 86,
     "metadata": {},
     "output_type": "execute_result"
    }
   ],
   "source": [
    "smap_sample.keys()"
   ]
  },
  {
   "cell_type": "code",
   "execution_count": 73,
   "metadata": {},
   "outputs": [
    {
     "data": {
      "text/plain": [
       "array([[-9999., -9999., -9999., ..., -9999., -9999., -9999.],\n",
       "       [-9999., -9999., -9999., ..., -9999., -9999., -9999.],\n",
       "       [-9999., -9999., -9999., ..., -9999., -9999., -9999.],\n",
       "       ...,\n",
       "       [-9999., -9999., -9999., ..., -9999., -9999., -9999.],\n",
       "       [-9999., -9999., -9999., ..., -9999., -9999., -9999.],\n",
       "       [-9999., -9999., -9999., ..., -9999., -9999., -9999.]],\n",
       "      dtype=float32)"
      ]
     },
     "execution_count": 73,
     "metadata": {},
     "output_type": "execute_result"
    }
   ],
   "source": [
    "sm_3k + sm_3k2"
   ]
  },
  {
   "cell_type": "code",
   "execution_count": 68,
   "metadata": {},
   "outputs": [
    {
     "data": {
      "text/plain": [
       "2"
      ]
     },
     "execution_count": 68,
     "metadata": {},
     "output_type": "execute_result"
    }
   ],
   "source": [
    "2 + 0"
   ]
  },
  {
   "cell_type": "code",
   "execution_count": 111,
   "metadata": {},
   "outputs": [
    {
     "name": "stdout",
     "output_type": "stream",
     "text": [
      "24\n"
     ]
    }
   ],
   "source": [
    "data1 = np.zeros(shape=(84, 84))\n",
    "count1 = 0\n",
    "\n",
    "directory = \"C:\\\\Users\\\\Research\\\\Documents\\\\Tara_Fall_2019\\\\SMAP_SoilMoisture\\\\smap_2016\"\n",
    "for filename in os.listdir(directory):\n",
    "    if filename.endswith(\"003E13N_R16010_001.h5\"): \n",
    "        count1 += 1\n",
    "#         input_sm = \"C:\\\\Users\\\\Research\\\\Documents\\\\Tara_Fall_2019\\\\SMAP_SoilMoisture\\\\smap_2016\\\\\" + filename\n",
    "#         sm = h5py.File(input_sm, \"r\")\n",
    "#         sm_data = sm['Soil_Moisture_Retrieval_Data_3km']\n",
    "#         sm_3k = np.array(sm_data['soil_moisture_3km'])\n",
    "#         sm_3k[sm_3k<0] = 0\n",
    "#         re_sized = np.resize(sm_3k,(84, 84))\n",
    "#         data1 += re_sized\n",
    "#         count1 += 1\n",
    "\n",
    "# avg1 = (data1 / count1)\n",
    "print (count1)"
   ]
  },
  {
   "cell_type": "code",
   "execution_count": 88,
   "metadata": {},
   "outputs": [
    {
     "data": {
      "text/plain": [
       "numpy.float64"
      ]
     },
     "execution_count": 88,
     "metadata": {},
     "output_type": "execute_result"
    }
   ],
   "source": [
    "type(np.unique(avg1)[0])"
   ]
  },
  {
   "cell_type": "code",
   "execution_count": 91,
   "metadata": {
    "scrolled": true
   },
   "outputs": [],
   "source": [
    "smap_chosen = h5py.File(\"C:\\\\Users\\\\Research\\\\Documents\\\\Tara_Fall_2019\\\\SMAP_SoilMoisture\\\\smap_2016\\\\SMAP_L2_SM_SP_1AIWDV_20161213T053600_20161212T175518_003E13N_R16010_001.h5\", 'r')\n",
    "smap_avg = h5py.File(\"C:\\\\Users\\\\Research\\\\Documents\\\\Tara_Fall_2019\\\\SMAP_SoilMoisture\\\\smap_2016\\\\average_moisture_2016.h5\", \"w\")"
   ]
  },
  {
   "cell_type": "code",
   "execution_count": 107,
   "metadata": {},
   "outputs": [
    {
     "data": {
      "text/plain": [
       "(84, 84)"
      ]
     },
     "execution_count": 107,
     "metadata": {},
     "output_type": "execute_result"
    }
   ],
   "source": [
    "np.array(smap_chosen['Soil_Moisture_Retrieval_Data_3km']['latitude_3km']).shape"
   ]
  },
  {
   "cell_type": "code",
   "execution_count": 94,
   "metadata": {
    "scrolled": false
   },
   "outputs": [],
   "source": [
    "dataset_toadd = smap_avg.create_dataset(\"annual_average_2016\", data = avg1)\n",
    "dataset_toadd2 = smap_avg.create_dataset(\"latitude\", data = smap_chosen['Soil_Moisture_Retrieval_Data_3km']['latitude_3km'])\n",
    "dataset_toadd3 = smap_avg.create_dataset(\"longitude\", data = smap_chosen['Soil_Moisture_Retrieval_Data_3km']['longitude_3km'])"
   ]
  },
  {
   "cell_type": "code",
   "execution_count": 105,
   "metadata": {},
   "outputs": [],
   "source": [
    "df = pd.DataFrame(columns = [\"longitude\", \"latitude\", \"soil_moisture\"])\n",
    "df[\"longitude\"] = np.array(smap_chosen['Soil_Moisture_Retrieval_Data_3km']['longitude_3km']).flatten()\n",
    "df[\"latitude\"] = np.array(smap_chosen['Soil_Moisture_Retrieval_Data_3km']['latitude_3km']).flatten()\n",
    "df[\"soil_moisture\"] = avg1.flatten()\n"
   ]
  },
  {
   "cell_type": "code",
   "execution_count": 110,
   "metadata": {},
   "outputs": [],
   "source": [
    "df.to_excel(\"C:\\\\Users\\\\Research\\\\Documents\\\\Tara_Fall_2019\\\\SMAP_SoilMoisture\\\\smap_2016\\\\average_moisture_2016xl.xlsx\")"
   ]
  },
  {
   "cell_type": "code",
   "execution_count": 9,
   "metadata": {},
   "outputs": [],
   "source": [
    "#annual soil moisture variation taken over all days in the year\n",
    "annual_std_2016 = ds_2016.sm.std(dim = 'time')\n",
    "annual_std_2016 = annual_std_2016.rename('annual_2016_std')\n",
    "annual_std_2010 = ds_2010.sm.std(dim = 'time')\n",
    "annual_std_2010 = annual_std_2010.rename('annual_2010_std')\n",
    "\n",
    "#seasonal soil moisture averages taken over all days in the year\n",
    "seasonal_2016_std = ds_2016.sm[121:274].std(dim = 'time')\n",
    "seasonal_2016_std = seasonal_2016_std.rename('seasonal_2016_std')\n",
    "seasonal_2010_std = ds_2010.sm[121:274].std(dim = 'time')\n",
    "seasonal_2010_std = seasonal_2010_std.rename('seasonal_2010_std')"
   ]
  },
  {
   "cell_type": "code",
   "execution_count": 13,
   "metadata": {},
   "outputs": [],
   "source": [
    "#annual soil moisture averages taken over all days in the year\n",
    "annual_mean_2016 = ds_2016.sm.mean(dim = 'time')\n",
    "annual_mean_2016 = annual_mean_2016.rename('annual_2016_mean')\n",
    "annual_mean_2010 = ds_2010.sm.mean(dim = 'time')\n",
    "annual_mean_2010 = annual_mean_2010.rename('annual_2010_mean')\n",
    "\n",
    "#annual soil moisture uncertainty averages taken over all days in the year\n",
    "annual_unc_mean_2016 = ds_2016.sm_uncertainty.mean(dim = 'time')\n",
    "annual_unc_mean_2016 = annual_unc_mean_2016.rename('annual_unc_2016_mean')\n",
    "annual_unc_mean_2010 = ds_2010.sm_uncertainty.mean(dim = 'time')\n",
    "annual_unc_mean_2010 = annual_unc_mean_2010.rename('annual_unc_2010_mean')"
   ]
  },
  {
   "cell_type": "code",
   "execution_count": 5,
   "metadata": {},
   "outputs": [],
   "source": [
    "#annual soil moisture minimum taken over all days in the year\n",
    "annual_2016_min = ds_2016.sm.min(dim= 'time')\n",
    "annual_2016_min = annual_2016_min.rename('annual_2016_min')\n",
    "annual_2010_min = ds_2010.sm.min(dim = 'time')\n",
    "annual_2010_min = annual_2010_min.rename('annual_2010_min')"
   ]
  },
  {
   "cell_type": "code",
   "execution_count": 6,
   "metadata": {},
   "outputs": [],
   "source": [
    "#annual soil moisture maximum taken over all days in the year\n",
    "annual_2016_max = ds_2016.sm.max(dim= 'time')\n",
    "annual_2016_max = annual_2016_max.rename('annual_2016_max')\n",
    "annual_2010_max = ds_2010.sm.max(dim = 'time')\n",
    "annual_2010_max = annual_2010_max.rename('annual_2010_max')"
   ]
  },
  {
   "cell_type": "code",
   "execution_count": 7,
   "metadata": {},
   "outputs": [],
   "source": [
    "#seasonal soil moisture averages taken over all days in the year\n",
    "seasonal_2016_mean = ds_2016.sm[121:274].mean(dim = 'time')\n",
    "seasonal_2016_mean = seasonal_2016_mean.rename('seasonal_2016_mean')\n",
    "seasonal_2010_mean = ds_2010.sm[121:274].mean(dim = 'time')\n",
    "seasonal_2010_mean = seasonal_2010_mean.rename('seasonal_2010_mean')"
   ]
  },
  {
   "cell_type": "code",
   "execution_count": 8,
   "metadata": {},
   "outputs": [],
   "source": [
    "#seasonal soil moisture minimum taken over all days in the year\n",
    "seasonal_2016_min = ds_2016.sm[121:274].min(dim = 'time')\n",
    "seasonal_2016_min = seasonal_2016_min.rename('seasonal_2016_min')\n",
    "seasonal_2010_min = ds_2010.sm[121:274].min(dim = 'time')\n",
    "seasonal_2010_min = seasonal_2010_min.rename('seasonal_2010_min')"
   ]
  },
  {
   "cell_type": "code",
   "execution_count": 9,
   "metadata": {},
   "outputs": [],
   "source": [
    "#seasonal soil moisture maximum taken over all days in the year\n",
    "seasonal_2016_max = ds_2016.sm[121:274].max(dim = 'time')\n",
    "seasonal_2016_max = seasonal_2016_max.rename('seasonal_2016_max')\n",
    "seasonal_2010_max = ds_2010.sm[121:274].max(dim = 'time')\n",
    "seasonal_2010_max = seasonal_2010_max.rename('seasonal_2010_max')"
   ]
  },
  {
   "cell_type": "code",
   "execution_count": 93,
   "metadata": {},
   "outputs": [],
   "source": [
    "soil_moisture_annual = xr.merge([annual_mean_2016, annual_mean_2010, annual_2016_min, annual_2010_min, annual_2016_max, annual_2010_max])\n",
    "soil_moisture_seasonal = xr.merge([seasonal_2016_mean, seasonal_2010_mean, seasonal_2016_min, seasonal_2010_min, seasonal_2016_max, seasonal_2010_max])\n",
    "uncertainty_mean = xr.merge([annual_unc_mean_2016, annual_unc_mean_2010])\n"
   ]
  },
  {
   "cell_type": "code",
   "execution_count": 10,
   "metadata": {},
   "outputs": [],
   "source": [
    "soil_moisture_variation = xr.merge([annual_std_2016, annual_std_2010, seasonal_2016_std, seasonal_2010_std])"
   ]
  },
  {
   "cell_type": "code",
   "execution_count": 19,
   "metadata": {},
   "outputs": [
    {
     "name": "stderr",
     "output_type": "stream",
     "text": [
      "C:\\Users\\Research\\Anaconda3\\lib\\site-packages\\dask\\array\\numpy_compat.py:38: RuntimeWarning: invalid value encountered in true_divide\n",
      "  x = np.divide(x1, x2, out)\n"
     ]
    }
   ],
   "source": [
    "soil_moisture_variation.to_netcdf('C:\\\\Users\\\\Research\\\\Documents\\\\Tara_Fall_2019\\\\ESA_SoilMoisture\\\\soil_moisture_variation.nc', 'w', 'NETCDF4')"
   ]
  },
  {
   "cell_type": "code",
   "execution_count": 92,
   "metadata": {},
   "outputs": [
    {
     "name": "stderr",
     "output_type": "stream",
     "text": [
      "C:\\Users\\Research\\Anaconda3\\lib\\site-packages\\dask\\compatibility.py:107: RuntimeWarning: All-NaN slice encountered\n",
      "  return func(*args, **kwargs)\n",
      "C:\\Users\\Research\\Anaconda3\\lib\\site-packages\\toolz\\functoolz.py:488: RuntimeWarning: All-NaN slice encountered\n",
      "  ret = f(ret)\n",
      "C:\\Users\\Research\\Anaconda3\\lib\\site-packages\\dask\\array\\numpy_compat.py:38: RuntimeWarning: invalid value encountered in true_divide\n",
      "  x = np.divide(x1, x2, out)\n",
      "C:\\Users\\Research\\Anaconda3\\lib\\site-packages\\dask\\compatibility.py:107: RuntimeWarning: All-NaN slice encountered\n",
      "  return func(*args, **kwargs)\n",
      "C:\\Users\\Research\\Anaconda3\\lib\\site-packages\\toolz\\functoolz.py:488: RuntimeWarning: All-NaN slice encountered\n",
      "  ret = f(ret)\n",
      "C:\\Users\\Research\\Anaconda3\\lib\\site-packages\\dask\\array\\numpy_compat.py:38: RuntimeWarning: invalid value encountered in true_divide\n",
      "  x = np.divide(x1, x2, out)\n",
      "C:\\Users\\Research\\Anaconda3\\lib\\site-packages\\dask\\array\\numpy_compat.py:38: RuntimeWarning: invalid value encountered in true_divide\n",
      "  x = np.divide(x1, x2, out)\n"
     ]
    }
   ],
   "source": [
    "soil_moisture_annual.to_netcdf('C:\\\\Users\\\\Research\\\\Documents\\\\Tara_Fall_2019\\\\ESA_SoilMoisture\\\\soil_moisture_annual.nc', 'w', 'NETCDF4')\n",
    "soil_moisture_seasonal.to_netcdf('C:\\\\Users\\\\Research\\\\Documents\\\\Tara_Fall_2019\\\\ESA_SoilMoisture\\\\soil_moisture_seasonal.nc', 'w', 'NETCDF4')\n",
    "uncertainty_mean.to_netcdf('C:\\\\Users\\\\Research\\\\Documents\\\\Tara_Fall_2019\\\\ESA_SoilMoisture\\\\uncertainty_mean.nc', 'w', 'NETCDF4')"
   ]
  },
  {
   "cell_type": "code",
   "execution_count": 27,
   "metadata": {},
   "outputs": [
    {
     "name": "stderr",
     "output_type": "stream",
     "text": [
      "C:\\Users\\Research\\Anaconda3\\lib\\site-packages\\dask\\compatibility.py:107: RuntimeWarning: All-NaN slice encountered\n",
      "  return func(*args, **kwargs)\n",
      "C:\\Users\\Research\\Anaconda3\\lib\\site-packages\\toolz\\functoolz.py:488: RuntimeWarning: All-NaN slice encountered\n",
      "  ret = f(ret)\n"
     ]
    },
    {
     "data": {
      "text/plain": [
       "(array([3.4460125, 3.9001238, 4.0048327, ...,       nan,       nan,\n",
       "              nan], dtype=float32),\n",
       " array([1, 1, 1, ..., 1, 1, 1], dtype=int64))"
      ]
     },
     "execution_count": 27,
     "metadata": {},
     "output_type": "execute_result"
    }
   ],
   "source": [
    "np.unique(ds_2016.sm.max(dim= 'time').values, return_counts = True)"
   ]
  }
 ],
 "metadata": {
  "kernelspec": {
   "display_name": "Python 3",
   "language": "python",
   "name": "python3"
  },
  "language_info": {
   "codemirror_mode": {
    "name": "ipython",
    "version": 3
   },
   "file_extension": ".py",
   "mimetype": "text/x-python",
   "name": "python",
   "nbconvert_exporter": "python",
   "pygments_lexer": "ipython3",
   "version": "3.8.8"
  }
 },
 "nbformat": 4,
 "nbformat_minor": 2
}
