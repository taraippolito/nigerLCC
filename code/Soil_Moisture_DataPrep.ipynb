{
 "cells": [
  {
   "cell_type": "code",
   "execution_count": 1,
   "metadata": {},
   "outputs": [],
   "source": [
    "import xarray as xr\n",
    "import pandas as pd\n",
    "import numpy as np\n",
    "import rasterio \n",
    "from datetime import timedelta, date\n",
    "import matplotlib.pyplot as plt"
   ]
  },
  {
   "cell_type": "code",
   "execution_count": 2,
   "metadata": {},
   "outputs": [
    {
     "name": "stderr",
     "output_type": "stream",
     "text": [
      "C:\\Users\\Research\\Anaconda3\\lib\\site-packages\\ipykernel_launcher.py:2: FutureWarning: In xarray version 0.15 the default behaviour of `open_mfdataset`\n",
      "will change. To retain the existing behavior, pass\n",
      "combine='nested'. To use future default behavior, pass\n",
      "combine='by_coords'. See\n",
      "http://xarray.pydata.org/en/stable/combining.html#combining-multi\n",
      "\n",
      "  \n",
      "C:\\Users\\Research\\Anaconda3\\lib\\site-packages\\xarray\\backends\\api.py:933: FutureWarning: The datasets supplied have global dimension coordinates. You may want\n",
      "to use the new `combine_by_coords` function (or the\n",
      "`combine='by_coords'` option to `open_mfdataset`) to order the datasets\n",
      "before concatenation. Alternatively, to continue concatenating based\n",
      "on the order the datasets are supplied in future, please use the new\n",
      "`combine_nested` function (or the `combine='nested'` option to\n",
      "open_mfdataset).\n",
      "  from_openmfds=True,\n"
     ]
    }
   ],
   "source": [
    "# 2010 soil moisture data (daily measurements stacked into one dataset)\n",
    "ds_2010 = xr.open_mfdataset('C:\\\\Users\\\\Research\\\\Documents\\\\Tara_Fall_2019\\\\ESA_SoilMoisture\\\\2010\\\\*.nc')"
   ]
  },
  {
   "cell_type": "code",
   "execution_count": 3,
   "metadata": {},
   "outputs": [
    {
     "name": "stderr",
     "output_type": "stream",
     "text": [
      "C:\\Users\\Research\\Anaconda3\\lib\\site-packages\\ipykernel_launcher.py:2: FutureWarning: In xarray version 0.15 the default behaviour of `open_mfdataset`\n",
      "will change. To retain the existing behavior, pass\n",
      "combine='nested'. To use future default behavior, pass\n",
      "combine='by_coords'. See\n",
      "http://xarray.pydata.org/en/stable/combining.html#combining-multi\n",
      "\n",
      "  \n",
      "C:\\Users\\Research\\Anaconda3\\lib\\site-packages\\xarray\\backends\\api.py:933: FutureWarning: The datasets supplied have global dimension coordinates. You may want\n",
      "to use the new `combine_by_coords` function (or the\n",
      "`combine='by_coords'` option to `open_mfdataset`) to order the datasets\n",
      "before concatenation. Alternatively, to continue concatenating based\n",
      "on the order the datasets are supplied in future, please use the new\n",
      "`combine_nested` function (or the `combine='nested'` option to\n",
      "open_mfdataset).\n",
      "  from_openmfds=True,\n"
     ]
    }
   ],
   "source": [
    "# 2016 soil moisture data (daily measurements stacked into one dataset)\n",
    "ds_2016 = xr.open_mfdataset('C:\\\\Users\\\\Research\\\\Documents\\\\Tara_Fall_2019\\\\ESA_SoilMoisture\\\\2016\\\\*.nc')"
   ]
  },
  {
   "cell_type": "code",
   "execution_count": 9,
   "metadata": {},
   "outputs": [],
   "source": [
    "#annual soil moisture variation taken over all days in the year\n",
    "annual_std_2016 = ds_2016.sm.std(dim = 'time')\n",
    "annual_std_2016 = annual_std_2016.rename('annual_2016_std')\n",
    "annual_std_2010 = ds_2010.sm.std(dim = 'time')\n",
    "annual_std_2010 = annual_std_2010.rename('annual_2010_std')\n",
    "\n",
    "#seasonal soil moisture averages taken over all days in the year\n",
    "seasonal_2016_std = ds_2016.sm[121:274].std(dim = 'time')\n",
    "seasonal_2016_std = seasonal_2016_std.rename('seasonal_2016_std')\n",
    "seasonal_2010_std = ds_2010.sm[121:274].std(dim = 'time')\n",
    "seasonal_2010_std = seasonal_2010_std.rename('seasonal_2010_std')"
   ]
  },
  {
   "cell_type": "code",
   "execution_count": 13,
   "metadata": {},
   "outputs": [],
   "source": [
    "#annual soil moisture averages taken over all days in the year\n",
    "annual_mean_2016 = ds_2016.sm.mean(dim = 'time')\n",
    "annual_mean_2016 = annual_mean_2016.rename('annual_2016_mean')\n",
    "annual_mean_2010 = ds_2010.sm.mean(dim = 'time')\n",
    "annual_mean_2010 = annual_mean_2010.rename('annual_2010_mean')\n",
    "\n",
    "#annual soil moisture uncertainty averages taken over all days in the year\n",
    "annual_unc_mean_2016 = ds_2016.sm_uncertainty.mean(dim = 'time')\n",
    "annual_unc_mean_2016 = annual_unc_mean_2016.rename('annual_unc_2016_mean')\n",
    "annual_unc_mean_2010 = ds_2010.sm_uncertainty.mean(dim = 'time')\n",
    "annual_unc_mean_2010 = annual_unc_mean_2010.rename('annual_unc_2010_mean')"
   ]
  },
  {
   "cell_type": "code",
   "execution_count": 5,
   "metadata": {},
   "outputs": [],
   "source": [
    "#annual soil moisture minimum taken over all days in the year\n",
    "annual_2016_min = ds_2016.sm.min(dim= 'time')\n",
    "annual_2016_min = annual_2016_min.rename('annual_2016_min')\n",
    "annual_2010_min = ds_2010.sm.min(dim = 'time')\n",
    "annual_2010_min = annual_2010_min.rename('annual_2010_min')"
   ]
  },
  {
   "cell_type": "code",
   "execution_count": 6,
   "metadata": {},
   "outputs": [],
   "source": [
    "#annual soil moisture maximum taken over all days in the year\n",
    "annual_2016_max = ds_2016.sm.max(dim= 'time')\n",
    "annual_2016_max = annual_2016_max.rename('annual_2016_max')\n",
    "annual_2010_max = ds_2010.sm.max(dim = 'time')\n",
    "annual_2010_max = annual_2010_max.rename('annual_2010_max')"
   ]
  },
  {
   "cell_type": "code",
   "execution_count": 7,
   "metadata": {},
   "outputs": [],
   "source": [
    "#seasonal soil moisture averages taken over all days in the year\n",
    "seasonal_2016_mean = ds_2016.sm[121:274].mean(dim = 'time')\n",
    "seasonal_2016_mean = seasonal_2016_mean.rename('seasonal_2016_mean')\n",
    "seasonal_2010_mean = ds_2010.sm[121:274].mean(dim = 'time')\n",
    "seasonal_2010_mean = seasonal_2010_mean.rename('seasonal_2010_mean')"
   ]
  },
  {
   "cell_type": "code",
   "execution_count": 8,
   "metadata": {},
   "outputs": [],
   "source": [
    "#seasonal soil moisture minimum taken over all days in the year\n",
    "seasonal_2016_min = ds_2016.sm[121:274].min(dim = 'time')\n",
    "seasonal_2016_min = seasonal_2016_min.rename('seasonal_2016_min')\n",
    "seasonal_2010_min = ds_2010.sm[121:274].min(dim = 'time')\n",
    "seasonal_2010_min = seasonal_2010_min.rename('seasonal_2010_min')"
   ]
  },
  {
   "cell_type": "code",
   "execution_count": 9,
   "metadata": {},
   "outputs": [],
   "source": [
    "#seasonal soil moisture maximum taken over all days in the year\n",
    "seasonal_2016_max = ds_2016.sm[121:274].max(dim = 'time')\n",
    "seasonal_2016_max = seasonal_2016_max.rename('seasonal_2016_max')\n",
    "seasonal_2010_max = ds_2010.sm[121:274].max(dim = 'time')\n",
    "seasonal_2010_max = seasonal_2010_max.rename('seasonal_2010_max')"
   ]
  },
  {
   "cell_type": "code",
   "execution_count": 93,
   "metadata": {},
   "outputs": [],
   "source": [
    "soil_moisture_annual = xr.merge([annual_mean_2016, annual_mean_2010, annual_2016_min, annual_2010_min, annual_2016_max, annual_2010_max])\n",
    "soil_moisture_seasonal = xr.merge([seasonal_2016_mean, seasonal_2010_mean, seasonal_2016_min, seasonal_2010_min, seasonal_2016_max, seasonal_2010_max])\n",
    "uncertainty_mean = xr.merge([annual_unc_mean_2016, annual_unc_mean_2010])\n"
   ]
  },
  {
   "cell_type": "code",
   "execution_count": 10,
   "metadata": {},
   "outputs": [],
   "source": [
    "soil_moisture_variation = xr.merge([annual_std_2016, annual_std_2010, seasonal_2016_std, seasonal_2010_std])"
   ]
  },
  {
   "cell_type": "code",
   "execution_count": 19,
   "metadata": {},
   "outputs": [
    {
     "name": "stderr",
     "output_type": "stream",
     "text": [
      "C:\\Users\\Research\\Anaconda3\\lib\\site-packages\\dask\\array\\numpy_compat.py:38: RuntimeWarning: invalid value encountered in true_divide\n",
      "  x = np.divide(x1, x2, out)\n"
     ]
    }
   ],
   "source": [
    "soil_moisture_variation.to_netcdf('C:\\\\Users\\\\Research\\\\Documents\\\\Tara_Fall_2019\\\\ESA_SoilMoisture\\\\soil_moisture_variation.nc', 'w', 'NETCDF4')"
   ]
  },
  {
   "cell_type": "code",
   "execution_count": 92,
   "metadata": {},
   "outputs": [
    {
     "name": "stderr",
     "output_type": "stream",
     "text": [
      "C:\\Users\\Research\\Anaconda3\\lib\\site-packages\\dask\\compatibility.py:107: RuntimeWarning: All-NaN slice encountered\n",
      "  return func(*args, **kwargs)\n",
      "C:\\Users\\Research\\Anaconda3\\lib\\site-packages\\toolz\\functoolz.py:488: RuntimeWarning: All-NaN slice encountered\n",
      "  ret = f(ret)\n",
      "C:\\Users\\Research\\Anaconda3\\lib\\site-packages\\dask\\array\\numpy_compat.py:38: RuntimeWarning: invalid value encountered in true_divide\n",
      "  x = np.divide(x1, x2, out)\n",
      "C:\\Users\\Research\\Anaconda3\\lib\\site-packages\\dask\\compatibility.py:107: RuntimeWarning: All-NaN slice encountered\n",
      "  return func(*args, **kwargs)\n",
      "C:\\Users\\Research\\Anaconda3\\lib\\site-packages\\toolz\\functoolz.py:488: RuntimeWarning: All-NaN slice encountered\n",
      "  ret = f(ret)\n",
      "C:\\Users\\Research\\Anaconda3\\lib\\site-packages\\dask\\array\\numpy_compat.py:38: RuntimeWarning: invalid value encountered in true_divide\n",
      "  x = np.divide(x1, x2, out)\n",
      "C:\\Users\\Research\\Anaconda3\\lib\\site-packages\\dask\\array\\numpy_compat.py:38: RuntimeWarning: invalid value encountered in true_divide\n",
      "  x = np.divide(x1, x2, out)\n"
     ]
    }
   ],
   "source": [
    "soil_moisture_annual.to_netcdf('C:\\\\Users\\\\Research\\\\Documents\\\\Tara_Fall_2019\\\\ESA_SoilMoisture\\\\soil_moisture_annual.nc', 'w', 'NETCDF4')\n",
    "soil_moisture_seasonal.to_netcdf('C:\\\\Users\\\\Research\\\\Documents\\\\Tara_Fall_2019\\\\ESA_SoilMoisture\\\\soil_moisture_seasonal.nc', 'w', 'NETCDF4')\n",
    "uncertainty_mean.to_netcdf('C:\\\\Users\\\\Research\\\\Documents\\\\Tara_Fall_2019\\\\ESA_SoilMoisture\\\\uncertainty_mean.nc', 'w', 'NETCDF4')"
   ]
  },
  {
   "cell_type": "code",
   "execution_count": 27,
   "metadata": {},
   "outputs": [
    {
     "name": "stderr",
     "output_type": "stream",
     "text": [
      "C:\\Users\\Research\\Anaconda3\\lib\\site-packages\\dask\\compatibility.py:107: RuntimeWarning: All-NaN slice encountered\n",
      "  return func(*args, **kwargs)\n",
      "C:\\Users\\Research\\Anaconda3\\lib\\site-packages\\toolz\\functoolz.py:488: RuntimeWarning: All-NaN slice encountered\n",
      "  ret = f(ret)\n"
     ]
    },
    {
     "data": {
      "text/plain": [
       "(array([3.4460125, 3.9001238, 4.0048327, ...,       nan,       nan,\n",
       "              nan], dtype=float32),\n",
       " array([1, 1, 1, ..., 1, 1, 1], dtype=int64))"
      ]
     },
     "execution_count": 27,
     "metadata": {},
     "output_type": "execute_result"
    }
   ],
   "source": [
    "np.unique(ds_2016.sm.max(dim= 'time').values, return_counts = True)"
   ]
  }
 ],
 "metadata": {
  "kernelspec": {
   "display_name": "Python 3",
   "language": "python",
   "name": "python3"
  },
  "language_info": {
   "codemirror_mode": {
    "name": "ipython",
    "version": 3
   },
   "file_extension": ".py",
   "mimetype": "text/x-python",
   "name": "python",
   "nbconvert_exporter": "python",
   "pygments_lexer": "ipython3",
   "version": "3.7.3"
  }
 },
 "nbformat": 4,
 "nbformat_minor": 2
}
