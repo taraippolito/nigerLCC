{
 "cells": [
  {
   "cell_type": "code",
   "execution_count": 1,
   "metadata": {},
   "outputs": [],
   "source": [
    "import xarray as xr\n",
    "import pandas as pd\n",
    "import numpy as np\n",
    "import rasterio \n",
    "from datetime import timedelta, date\n",
    "from sklearn.linear_model import LinearRegression\n",
    "from sklearn.pipeline import make_pipeline, make_union\n",
    "from sklearn.preprocessing import MinMaxScaler\n",
    "from sklearn.metrics import mean_squared_error, r2_score\n",
    "from numpy import isnan\n",
    "from mord import LogisticAT\n",
    "import pickle \n",
    "import matplotlib.pyplot as plt\n",
    "import random"
   ]
  },
  {
   "cell_type": "code",
   "execution_count": 2,
   "metadata": {
    "scrolled": true
   },
   "outputs": [],
   "source": [
    "HD = pd.read_excel(\"C:\\\\Users\\\\Research\\\\Documents\\\\Tara_Fall_2019\\\\Field_Data\\\\sites_HWSD_FULL.xls\")\n",
    "SG = pd.read_excel(\"C:\\\\Users\\\\Research\\\\Documents\\\\Tara_Fall_2019\\\\Field_Data\\\\sites_SG_FULL.xls\")\n",
    "site = pd.read_excel(\"C:\\\\Users\\\\Research\\\\Documents\\\\Tara_Fall_2019\\\\Field_Data\\\\1305_Samples_Dosso.xlsx\")"
   ]
  },
  {
   "cell_type": "code",
   "execution_count": 3,
   "metadata": {},
   "outputs": [],
   "source": [
    "HD_cut1 = HD[HD['Soil_ID'] != 0]\n",
    "HD_cut = HD_cut1[HD_cut1[\"F49\"] != \" \"]"
   ]
  },
  {
   "cell_type": "code",
   "execution_count": 4,
   "metadata": {},
   "outputs": [],
   "source": [
    "SG_cut1 = SG[SG['LCC'] != -9999]\n",
    "SG_cut = SG_cut1[SG_cut1[\"F49\"] != \" \"]"
   ]
  },
  {
   "cell_type": "code",
   "execution_count": 11,
   "metadata": {},
   "outputs": [],
   "source": [
    "# pull out the field site texture components and the dataset texture components to be compared \n",
    "SoG_site_sand = SG_cut['F49'].astype(float)\n",
    "SoG_site_silt = SG_cut['F47'].astype(float)\n",
    "SoG_site_clay = SG_cut['F51'].astype(float)\n",
    "SoG_site_oc = SG_cut['F43'].astype(float)\n",
    "SoG_sand = SG_cut['sand']\n",
    "SoG_silt = SG_cut['silt']\n",
    "SoG_clay = SG_cut['clay']\n",
    "SoG_oc = SG_cut['org_c']\n",
    "SoG_lon = SG_cut['Longitude'].astype(float)\n",
    "SoG_lat = SG_cut['Latitude'].astype(float)\n",
    "\n",
    "HwD_site_sand = HD_cut['F49'].astype(float)\n",
    "HwD_site_silt = HD_cut['F47'].astype(float)\n",
    "HwD_site_clay = HD_cut['F51'].astype(float)\n",
    "HwD_site_oc = HD_cut['F49'].astype(float)\n",
    "HwD_sand = HD_cut['T_SAND']\n",
    "HwD_silt = HD_cut['T_SILT']\n",
    "HwD_clay = HD_cut['T_CLAY']\n",
    "HwD_oc = HD_cut['T_OC']"
   ]
  },
  {
   "cell_type": "code",
   "execution_count": 12,
   "metadata": {},
   "outputs": [],
   "source": [
    "# Aggregate SoilGrids AWC values (12.5m) out to resolution of Soil Moisture data (.25 degrees ~27.75 km) by taking the mean\n",
    "# Then regress awc values on soil moisture at the lower resolution level to see if there is a relationship\n",
    "# such large mismatch in the resolution of these data sets was messing with the optimization of the regression \n",
    "\n",
    "# pull data out \n",
    "# x_data = SG_site_sand.to_numpy().reshape(-1, 1)\n",
    "# y_data = SG_sand.to_numpy().reshape(-1, 1)\n",
    "\n",
    "Y = SoG_lat.to_numpy().reshape(-1, 1)\n",
    "X = SoG_site_oc.to_numpy().reshape(-1, 1)\n",
    "\n",
    "# normalize data\n",
    "# scaler = MinMaxScaler()\n",
    "# X = scaler.fit_transform(x_data)\n",
    "# Y = scaler.fit_transform(y_data)\n"
   ]
  },
  {
   "cell_type": "code",
   "execution_count": 13,
   "metadata": {},
   "outputs": [
    {
     "name": "stdout",
     "output_type": "stream",
     "text": [
      "Coefficients: \n",
      " [[-0.35768098]]\n",
      "Intercept: \n",
      " [13.20722723]\n",
      "Mean squared error: 0.73\n",
      "Coefficient of determination: -18.59\n"
     ]
    },
    {
     "data": {
      "image/png": "[encoded data removed]",
      "text/plain": [
       "<Figure size 432x288 with 1 Axes>"
      ]
     },
     "metadata": {
      "needs_background": "light"
     },
     "output_type": "display_data"
    }
   ],
   "source": [
    "# build a regression an plot the data and the line of best fit \n",
    "\n",
    "#pull out train and test sets (80% train, 20% test)\n",
    "train_x = X[:int(len(X)*.8)]\n",
    "test_x = X[int(len(X)*.8):]\n",
    "    \n",
    "train_y = Y[:int(len(Y)*.8)]\n",
    "test_y = Y[int(len(Y)*.8):]\n",
    "    \n",
    "# Create linear regression object\n",
    "regr = LinearRegression()\n",
    "\n",
    "# Train the model using the training sets\n",
    "regr.fit(train_x, train_y)\n",
    "\n",
    "# Make predictions using the testing set of x values\n",
    "y_pred = regr.predict(test_x)\n",
    "    \n",
    "# The coefficients\n",
    "print('Coefficients: \\n', regr.coef_)\n",
    "    \n",
    "# The intercept\n",
    "print('Intercept: \\n', regr.intercept_)\n",
    "    \n",
    "# The mean squared error\n",
    "print('Mean squared error: %.2f'\n",
    "    % mean_squared_error(test_y, y_pred))\n",
    "    \n",
    "# The coefficient of determination: 1 is perfect prediction\n",
    "print('Coefficient of determination: %.2f'\n",
    "    % r2_score(test_y, y_pred))\n",
    "\n",
    "# Plot outputs  \n",
    "fig, ax = plt.subplots()\n",
    "ax.scatter(X, Y,  color='black')\n",
    "# ax.plot(test_x, y_pred, color='blue', linewidth=3)\n",
    "# change these as neeeded! \n",
    "ax.set_xlabel('Field Site OC')\n",
    "ax.set_ylabel('Latitude - Y')\n",
    "        \n",
    "# Tweak spacing to prevent clipping of ylabel\n",
    "fig.tight_layout()\n",
    "fig = plt.gcf()\n",
    "plt.show()"
   ]
  },
  {
   "cell_type": "code",
   "execution_count": 8,
   "metadata": {},
   "outputs": [],
   "source": [
    "KG_silt = xr.open_rasterio('C:\\\\Users\\\\Research\\\\Documents\\\\Tara_Fall_2019\\\\Field_Data\\\\KG_silt_fval.tif')\n",
    "KG_sand = xr.open_rasterio('C:\\\\Users\\\\Research\\\\Documents\\\\Tara_Fall_2019\\\\Field_Data\\\\KG_sand_fval.tif')\n",
    "KG_clay = xr.open_rasterio('C:\\\\Users\\\\Research\\\\Documents\\\\Tara_Fall_2019\\\\Field_Data\\\\KG_clay_fval.tif')\n",
    "field_avg_sand = xr.open_rasterio('C:\\\\Users\\\\Research\\\\Documents\\\\Tara_Fall_2019\\\\Field_Data\\\\FSandAvgClip.tif')\n",
    "\n",
    "HD_silt = xr.open_rasterio('C:\\\\Users\\\\Research\\\\Documents\\\\Tara_Fall_2019\\\\Field_Data\\\\HD_silt_fval.tif')\n",
    "HD_sand = xr.open_rasterio('C:\\\\Users\\\\Research\\\\Documents\\\\Tara_Fall_2019\\\\Field_Data\\\\HD_sand_fval.tif')\n",
    "HD_clay = xr.open_rasterio('C:\\\\Users\\\\Research\\\\Documents\\\\Tara_Fall_2019\\\\Field_Data\\\\HD_clay_fval.tif')\n",
    "HD_oc = xr.open_rasterio('C:\\\\Users\\\\Research\\\\Documents\\\\Tara_Fall_2019\\\\Field_Data\\\\HD_oc_fval.tif')\n",
    "HD_grav = xr.open_rasterio('C:\\\\Users\\\\Research\\\\Documents\\\\Tara_Fall_2019\\\\Field_Data\\\\HD_grav_fval.tif')\n",
    "\n",
    "SG_silt = xr.open_rasterio('C:\\\\Users\\\\Research\\\\Documents\\\\Tara_Fall_2019\\\\Field_Data\\\\SG_silt_fval.tif')\n",
    "SG_sand = xr.open_rasterio('C:\\\\Users\\\\Research\\\\Documents\\\\Tara_Fall_2019\\\\Field_Data\\\\SG_sand_fval.tif')\n",
    "SG_clay = xr.open_rasterio('C:\\\\Users\\\\Research\\\\Documents\\\\Tara_Fall_2019\\\\Field_Data\\\\SG_clay_fval.tif')\n",
    "SG_oc = xr.open_rasterio('C:\\\\Users\\\\Research\\\\Documents\\\\Tara_Fall_2019\\\\Field_Data\\\\SG_oc_fval.tif')\n",
    "SG_cf = xr.open_rasterio('C:\\\\Users\\\\Research\\\\Documents\\\\Tara_Fall_2019\\\\Field_Data\\\\SG_cf_fval.tif')"
   ]
  },
  {
   "cell_type": "code",
   "execution_count": 30,
   "metadata": {},
   "outputs": [
    {
     "name": "stdout",
     "output_type": "stream",
     "text": [
      "False False\n"
     ]
    }
   ],
   "source": [
    "# Aggregate SoilGrids AWC values (12.5m) out to resolution of Soil Moisture data (.25 degrees ~27.75 km) by taking the mean\n",
    "# Then regress awc values on soil moisture at the lower resolution level to see if there is a relationship\n",
    "# such large mismatch in the resolution of these data sets was messing with the optimization of the regression \n",
    "\n",
    "# pull data out \n",
    "x_data = field_avg_sand\n",
    "y_data = SG_sand\n",
    "\n",
    "# pull values and flatten into np arrays \n",
    "x_arr = x_data.values.flatten()\n",
    "y_arr = y_data.values.flatten()\n",
    "nd_x = x_arr[0]\n",
    "nd_y = y_arr[0]\n",
    "index_x = np.argwhere(x_arr==nd_x)\n",
    "index_y = np.argwhere(y_arr==nd_y)\n",
    "X = np.delete(x_arr, index_x).reshape(-1, 1)\n",
    "Y = np.delete(y_arr, index_x).reshape(-1, 1)\n",
    "\n",
    "# X = x_arr[x_arr != x_arr[0]].reshape(-1, 1)\n",
    "# Y = y_arr[y_arr != 128].reshape(-1, 1)\n",
    "print ((nd_x in X), (nd_y in Y))\n",
    "\n",
    "\n",
    "# # shift data by one so there are no zero values in the data \n",
    "# x_arr_t = x_arr + 1\n",
    "# y_arr_t = y_arr + 1\n",
    "\n",
    "# # create nan mask so cells with missing data from either dataset are omitted\n",
    "# # WANT: only data cells where there is data in BOTH datasets\n",
    "# nan_mask = (~isnan(x_arr_t) * ~isnan(y_arr_t)).astype(int)\n",
    "\n",
    "# # multiply x and y values by mask to zero out cells where data is missing \n",
    "# # note that none of the original data values are zero to avoid deleting actual data \n",
    "# masked_x = nan_mask*x_arr_t\n",
    "# masked_y = nan_mask*y_arr_t\n",
    "\n",
    "# # drop data entries where one or both datasets have zero values or nan values\n",
    "# no_zero_x = masked_x[ masked_x != 0]\n",
    "# no_nan_x = no_zero_x[~np.isnan(no_zero_x)]\n",
    "# # go back and shift data back to original postion - divide by 100 because initial data was multiplied by 100 to preserve decimal points \n",
    "# X_1 = (no_nan_x - 1).reshape(-1, 1)\n",
    "    \n",
    "# no_zero_y = masked_y[ masked_y != 0]\n",
    "# no_nan_y = no_zero_y[~np.isnan(no_zero_y)]\n",
    "# Y_1 = (no_nan_y - 1).reshape(-1, 1)"
   ]
  },
  {
   "cell_type": "code",
   "execution_count": 31,
   "metadata": {},
   "outputs": [
    {
     "name": "stdout",
     "output_type": "stream",
     "text": [
      "Coefficients: \n",
      " [[0.16886312]]\n",
      "Intercept: \n",
      " [64.911575]\n",
      "Mean squared error: 84.02\n",
      "Coefficient of determination: -1.32\n"
     ]
    },
    {
     "data": {
      "image/png": "[encoded data removed]",
      "text/plain": [
       "<Figure size 432x288 with 1 Axes>"
      ]
     },
     "metadata": {
      "needs_background": "light"
     },
     "output_type": "display_data"
    }
   ],
   "source": [
    "# build a regression an plot the data and the line of best fit \n",
    "\n",
    "#pull out train and test sets (80% train, 20% test)\n",
    "train_x = X[:int(len(X)*.8)]\n",
    "test_x = X[int(len(X)*.8):]\n",
    "    \n",
    "train_y = Y[:int(len(Y)*.8)]\n",
    "test_y = Y[int(len(Y)*.8):]\n",
    "    \n",
    "# Create linear regression object\n",
    "regr = LinearRegression()\n",
    "\n",
    "# Train the model using the training sets\n",
    "regr.fit(train_x, train_y)\n",
    "\n",
    "# Make predictions using the testing set of x values\n",
    "y_pred = regr.predict(test_x)\n",
    "    \n",
    "# The coefficients\n",
    "print('Coefficients: \\n', regr.coef_)\n",
    "    \n",
    "# The intercept\n",
    "print('Intercept: \\n', regr.intercept_)\n",
    "    \n",
    "# The mean squared error\n",
    "print('Mean squared error: %.2f'\n",
    "    % mean_squared_error(test_y, y_pred))\n",
    "    \n",
    "# The coefficient of determination: 1 is perfect prediction\n",
    "print('Coefficient of determination: %.2f'\n",
    "    % r2_score(test_y, y_pred))\n",
    "\n",
    "# Plot outputs  \n",
    "fig, ax = plt.subplots()\n",
    "ax.scatter(X, Y,  color='black')\n",
    "ax.plot(test_x, y_pred, color='blue', linewidth=3)\n",
    "# change these as neeeded! \n",
    "ax.set_ylabel('SoilGrid Sand (%)')\n",
    "ax.set_xlabel('Field Site Averaged Sand Values (%)')\n",
    "        \n",
    "# Tweak spacing to prevent clipping of ylabel\n",
    "fig.tight_layout()\n",
    "fig = plt.gcf()\n",
    "plt.show()"
   ]
  },
  {
   "cell_type": "code",
   "execution_count": null,
   "metadata": {},
   "outputs": [],
   "source": []
  }
 ],
 "metadata": {
  "kernelspec": {
   "display_name": "Python 3",
   "language": "python",
   "name": "python3"
  },
  "language_info": {
   "codemirror_mode": {
    "name": "ipython",
    "version": 3
   },
   "file_extension": ".py",
   "mimetype": "text/x-python",
   "name": "python",
   "nbconvert_exporter": "python",
   "pygments_lexer": "ipython3",
   "version": "3.7.3"
  }
 },
 "nbformat": 4,
 "nbformat_minor": 2
}
